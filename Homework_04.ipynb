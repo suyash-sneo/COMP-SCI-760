{
 "cells": [
  {
   "cell_type": "markdown",
   "id": "23f963fa-b93e-48f3-827a-913d19dbd954",
   "metadata": {},
   "source": [
    "# 3. Language Identification with Naive Bayes"
   ]
  },
  {
   "cell_type": "markdown",
   "id": "8d27de44-d437-4e64-82e9-b901fbb472e6",
   "metadata": {},
   "source": [
    "## 3.1"
   ]
  },
  {
   "cell_type": "code",
   "execution_count": 1,
   "id": "0aeb9c84-a132-4d9b-8896-405b1ae2ce20",
   "metadata": {},
   "outputs": [
    {
     "name": "stdout",
     "output_type": "stream",
     "text": [
      "Prior probability p(y = e):  0.10967741935483871\n",
      "Prior probability p(y = j):  0.7382488479262673\n",
      "Prior probability p(y = s):  0.15207373271889402\n"
     ]
    }
   ],
   "source": [
    "import os\n",
    "import numpy as np\n",
    "\n",
    "# English\n",
    "e_data = []\n",
    "for fileSuffix in range(0, 10):\n",
    "    fileName = 'e' + str(fileSuffix) + '.txt'\n",
    "    with open(os.path.join('languageID', fileName), 'r', encoding='utf-8') as f:\n",
    "        for line in f:\n",
    "            line = line.strip()\n",
    "            if len(line) > 0:\n",
    "                e_data.append(line)\n",
    "\n",
    "# Japanese\n",
    "j_data = []\n",
    "for fileSuffix in range(0, 10):\n",
    "    fileName = 'j' + str(fileSuffix) + '.txt'\n",
    "    with open(os.path.join('languageID', fileName), 'r', encoding='utf-8') as f:\n",
    "        for line in f:\n",
    "            line = line.strip()\n",
    "            if len(line) > 0:\n",
    "                j_data.append(line)\n",
    "\n",
    "# Spanish\n",
    "s_data = []\n",
    "for fileSuffix in range(0, 10):\n",
    "    fileName = 's' + str(fileSuffix) + '.txt'\n",
    "    with open(os.path.join('languageID', fileName), 'r', encoding='utf-8') as f:\n",
    "        for line in f:\n",
    "            line = line.strip()\n",
    "            if len(line) > 0:\n",
    "                s_data.append(line)\n",
    "\n",
    "total_len = len(e_data) + len(j_data) + len(s_data)\n",
    "\n",
    "prior_e = (len(e_data) + 0.5) / (total_len + (3*0.5))\n",
    "prior_j = (len(j_data) + 0.5) / (total_len + (3*0.5))\n",
    "prior_s = (len(s_data) + 0.5) / (total_len + (3*0.5))\n",
    "\n",
    "priorProbs = np.array([prior_e, prior_j, prior_s])\n",
    "logPriorProbs = np.log(priorProbs)\n",
    "\n",
    "print(\"Prior probability p(y = e): \", prior_e)\n",
    "print(\"Prior probability p(y = j): \", prior_j)\n",
    "print(\"Prior probability p(y = s): \", prior_s)"
   ]
  },
  {
   "cell_type": "markdown",
   "id": "91b7fadc-26d2-4f5c-b8d8-236cdd2b09d0",
   "metadata": {},
   "source": [
    "## 3.2"
   ]
  },
  {
   "cell_type": "code",
   "execution_count": 2,
   "id": "b2143bd1-3ef0-402b-b49a-6d44ca57d164",
   "metadata": {},
   "outputs": [
    {
     "name": "stdout",
     "output_type": "stream",
     "text": [
      "Probabilities for English:  [0.06024017 0.01114824 0.02153561 0.02199874 0.10549472 0.01895531\n",
      " 0.01749975 0.04727249 0.05547653 0.00142248 0.00373813 0.02901188\n",
      " 0.02054319 0.05799067 0.06454067 0.01677197 0.00056237 0.05388865\n",
      " 0.06626088 0.08022098 0.02669622 0.00929571 0.0155149  0.00115783\n",
      " 0.01386086 0.00062854 0.17827252]\n"
     ]
    }
   ],
   "source": [
    "count_e = np.array([0 for _ in range(27)])\n",
    "count_j = np.array([0 for _ in range(27)])\n",
    "count_s = np.array([0 for _ in range(27)])\n",
    "\n",
    "# English\n",
    "for line in e_data:\n",
    "    for c in line:\n",
    "        idx = ord(c)\n",
    "        if 97<=idx and idx<=122:\n",
    "            idx -= 97\n",
    "        elif idx==32:\n",
    "            idx=26\n",
    "        else:\n",
    "            continue\n",
    "        count_e[idx] += 1\n",
    "\n",
    "probs_e = (count_e + 0.5) / (np.sum(count_e) + (27*0.5))\n",
    "logProbs_e = np.log(probs_e)\n",
    "print(\"Probabilities for English: \", probs_e)"
   ]
  },
  {
   "cell_type": "markdown",
   "id": "b778aebc-4c4e-415c-9558-cc433674e9c6",
   "metadata": {},
   "source": [
    "## 3.3"
   ]
  },
  {
   "cell_type": "code",
   "execution_count": 3,
   "id": "0c327508-2da2-4c07-b447-2476a95e124d",
   "metadata": {},
   "outputs": [
    {
     "name": "stdout",
     "output_type": "stream",
     "text": [
      "Probabilities for Japanese:  [1.34175414e-01 1.10656467e-02 5.58619463e-03 1.75413627e-02\n",
      " 6.13058175e-02 3.94947518e-03 1.42679239e-02 3.23429995e-02\n",
      " 9.88080413e-02 2.38391745e-03 5.84593489e-02 1.45881516e-03\n",
      " 4.05265967e-02 5.77477317e-02 9.28304572e-02 8.89521437e-04\n",
      " 1.06742572e-04 4.35865504e-02 4.29460950e-02 5.80323786e-02\n",
      " 7.19089130e-02 2.49066002e-04 2.01031845e-02 3.55808575e-05\n",
      " 1.44102473e-02 7.86336951e-03 1.07418609e-01]\n"
     ]
    }
   ],
   "source": [
    "# Japanese\n",
    "for line in j_data:\n",
    "    for c in line:\n",
    "        idx = ord(c)\n",
    "        if 97<=idx and idx<=122:\n",
    "            idx -= 97\n",
    "        elif idx==32:\n",
    "            idx=26\n",
    "        else:\n",
    "            continue\n",
    "        count_j[idx] += 1\n",
    "\n",
    "probs_j = (count_j + 0.5) / (np.sum(count_j) + (27*0.5))\n",
    "logProbs_j = np.log(probs_j)\n",
    "print(\"Probabilities for Japanese: \", probs_j)"
   ]
  },
  {
   "cell_type": "code",
   "execution_count": 4,
   "id": "7a425b0a-53c3-40cb-bfd1-abac094c8d43",
   "metadata": {},
   "outputs": [
    {
     "name": "stdout",
     "output_type": "stream",
     "text": [
      "Probabilities for Spanish:  [1.04831978e-01 8.25424305e-03 3.76232726e-02 3.98491359e-02\n",
      " 1.14106409e-01 8.62522027e-03 7.20314094e-03 4.54447089e-03\n",
      " 4.99891798e-02 6.64667512e-03 2.78232912e-04 5.30806566e-02\n",
      " 2.58756608e-02 5.43172473e-02 7.26806195e-02 2.43299224e-02\n",
      " 7.69777723e-03 5.94490988e-02 6.59412001e-02 3.57065570e-02\n",
      " 3.37898414e-02 5.90472069e-03 9.27443040e-05 2.50409621e-03\n",
      " 7.88326584e-03 2.68958481e-03 1.66105048e-01]\n"
     ]
    }
   ],
   "source": [
    "# Spanish\n",
    "for line in s_data:\n",
    "    for c in line:\n",
    "        idx = ord(c)\n",
    "        if 97<=idx and idx<=122:\n",
    "            idx -= 97\n",
    "        elif idx==32:\n",
    "            idx=26\n",
    "        else:\n",
    "            continue\n",
    "        count_s[idx] += 1\n",
    "\n",
    "probs_s = (count_s + 0.5) / (np.sum(count_s) + (27*0.5))\n",
    "logProbs_s = np.log(probs_s)\n",
    "print(\"Probabilities for Spanish: \", probs_s)"
   ]
  },
  {
   "cell_type": "markdown",
   "id": "4b3c976c-9dc7-4e77-bb4e-647866c29e09",
   "metadata": {},
   "source": [
    "## 3.4"
   ]
  },
  {
   "cell_type": "code",
   "execution_count": 5,
   "id": "d5ad9287-43f7-4cd0-9252-408449e5f8c0",
   "metadata": {},
   "outputs": [
    {
     "name": "stdout",
     "output_type": "stream",
     "text": [
      "Bag of words vector:  [164  32  53  57 311  55  51 140 140   3   6  85  64 139 182  53   3 141\n",
      " 186 225  65  31  47   4  38   2 492]\n"
     ]
    }
   ],
   "source": [
    "count_e10 = np.array([0 for _ in range(27)])\n",
    "\n",
    "with open(os.path.join('languageID', 'e10.txt'), 'r', encoding='utf-8') as f:\n",
    "    for line in f:\n",
    "        line = line.strip()\n",
    "        if len(line) > 0:\n",
    "            for c in line:\n",
    "                idx = ord(c)\n",
    "                if 97<=idx and idx<=122:\n",
    "                    idx -= 97\n",
    "                elif idx==32:\n",
    "                    idx=26\n",
    "                else:\n",
    "                    continue\n",
    "                count_e10[idx] += 1\n",
    "\n",
    "print(\"Bag of words vector: \", count_e10)"
   ]
  },
  {
   "cell_type": "markdown",
   "id": "a9fa6a77-764e-4046-97fa-31569b77a0c7",
   "metadata": {},
   "source": [
    "## 3.5"
   ]
  },
  {
   "cell_type": "code",
   "execution_count": 6,
   "id": "76380557-3dee-43a0-b06a-3a113f77fa00",
   "metadata": {},
   "outputs": [
    {
     "name": "stdout",
     "output_type": "stream",
     "text": [
      "Logprob: p(x | y=e):  -7831.531702560014\n",
      "Logprob: p(x | y=j):  -8786.051104707092\n",
      "Logprob: p(x | y=s):  -8457.039705604957\n"
     ]
    }
   ],
   "source": [
    "# For English\n",
    "logP_e = 0\n",
    "for i, c in enumerate(count_e10):\n",
    "    logP_e += (logProbs_e[i] * c)\n",
    "\n",
    "print(\"Logprob: p(x | y=e): \", logP_e)\n",
    "\n",
    "# For Japanese\n",
    "logP_j = 0\n",
    "for i, c in enumerate(count_e10):\n",
    "    logP_j += (logProbs_j[i] * c)\n",
    "\n",
    "print(\"Logprob: p(x | y=j): \", logP_j)\n",
    "\n",
    "# For Spanish\n",
    "logP_s = 0\n",
    "for i, c in enumerate(count_e10):\n",
    "    logP_s += (logProbs_s[i] * c)\n",
    "\n",
    "print(\"Logprob: p(x | y=s): \", logP_s)"
   ]
  },
  {
   "cell_type": "markdown",
   "id": "2ad87363-9286-47cf-8893-e0b7e59ec565",
   "metadata": {},
   "source": [
    "## 3.6"
   ]
  },
  {
   "cell_type": "code",
   "execution_count": 7,
   "id": "f0178c54-360c-41cc-a999-0e8dfb9676ee",
   "metadata": {},
   "outputs": [
    {
     "name": "stdout",
     "output_type": "stream",
     "text": [
      "Posterior log probability for English:  -7833.741914332877\n",
      "Posterior log probability for Japanese:  -8786.354579025998\n",
      "Posterior log probability for Spanish:  -8458.923095397031\n"
     ]
    }
   ],
   "source": [
    "posteriorLogP_e = logP_e + logPriorProbs[0]\n",
    "posteriorLogP_j = logP_j + logPriorProbs[1]\n",
    "posteriorLogP_s = logP_s + logPriorProbs[2]\n",
    "\n",
    "print(\"Posterior log probability for English: \", posteriorLogP_e)\n",
    "print(\"Posterior log probability for Japanese: \", posteriorLogP_j)\n",
    "print(\"Posterior log probability for Spanish: \", posteriorLogP_s)"
   ]
  },
  {
   "cell_type": "markdown",
   "id": "51511bb6-01fe-42c5-8563-bfdb8f3b0ec0",
   "metadata": {},
   "source": [
    "## 3.7"
   ]
  },
  {
   "cell_type": "code",
   "execution_count": 8,
   "id": "81eab981-726a-4f07-b886-a19cefd10981",
   "metadata": {},
   "outputs": [
    {
     "name": "stdout",
     "output_type": "stream",
     "text": [
      "Confusion Matrix: \n",
      "[[10.  0.  0.]\n",
      " [ 0. 10.  0.]\n",
      " [ 0.  0. 10.]]\n"
     ]
    }
   ],
   "source": [
    "confusion_matrix = np.zeros((3, 3))\n",
    "\n",
    "for i, prefix in enumerate(('e', 'j', 's')):\n",
    "    for suffix in range(10, 20):\n",
    "        filename = prefix + str(suffix) + '.txt'\n",
    "        counts = np.array([0 for _ in range(27)])\n",
    "        with open(os.path.join('languageID', filename), 'r', encoding='utf-8') as f:\n",
    "            for line in f:\n",
    "                line = line.strip()\n",
    "                if len(line) > 0:\n",
    "                    for c in line:\n",
    "                        idx = ord(c)\n",
    "                        if 97<=idx and idx<=122:\n",
    "                            idx -= 97\n",
    "                        elif idx==32:\n",
    "                            idx=26\n",
    "                        else:\n",
    "                            continue\n",
    "                        counts[idx] += 1\n",
    "        logProbs = np.zeros((3))\n",
    "        for j, c in enumerate(counts):\n",
    "            logProbs[0] += (logProbs_e[j] * c)\n",
    "            logProbs[1] += (logProbs_j[j] * c)\n",
    "            logProbs[2] += (logProbs_s[j] * c)\n",
    "\n",
    "        for j in range(3):\n",
    "            logProbs[j] += logPriorProbs[j]\n",
    "\n",
    "        k = np.argmax(logProbs)\n",
    "        confusion_matrix[i][k] += 1\n",
    "\n",
    "print(\"Confusion Matrix: \")\n",
    "print(confusion_matrix)"
   ]
  },
  {
   "cell_type": "markdown",
   "id": "3e9d4bcd-f2cb-4ab0-b593-348e5a67158a",
   "metadata": {},
   "source": [
    "---"
   ]
  },
  {
   "cell_type": "markdown",
   "id": "62dd4b23-9d07-4f43-9daa-6f6a86501587",
   "metadata": {},
   "source": [
    "# 4. Simple Feed-Forward Network"
   ]
  },
  {
   "cell_type": "markdown",
   "id": "92f5f244-3667-43f1-b930-37afe02aec2f",
   "metadata": {},
   "source": [
    "## 4.2"
   ]
  },
  {
   "cell_type": "code",
   "execution_count": 33,
   "id": "8029e996-7660-432e-b506-71b831e2c955",
   "metadata": {},
   "outputs": [
    {
     "name": "stdout",
     "output_type": "stream",
     "text": [
      "<class 'numpy.ndarray'> <class 'numpy.ndarray'>\n",
      "(60000, 28, 28) (60000,) (10000, 28, 28) (10000,)\n"
     ]
    }
   ],
   "source": [
    "import tensorflow as tf\n",
    "\n",
    "# Load MNIST dataset\n",
    "(x_train, y_train), (x_test, y_test) = tf.keras.datasets.mnist.load_data()\n",
    "\n",
    "print(type(x_train), type(y_train))\n",
    "print(x_train.shape, y_train.shape, x_test.shape, y_test.shape)"
   ]
  },
  {
   "cell_type": "code",
   "execution_count": 34,
   "id": "6147a9d4-85cc-46c9-a2aa-8418721fee9a",
   "metadata": {},
   "outputs": [
    {
     "name": "stdout",
     "output_type": "stream",
     "text": [
      "torch.Size([60000, 784]) torch.Size([10000, 784])\n"
     ]
    }
   ],
   "source": [
    "import torch\n",
    "import torch.nn\n",
    "\n",
    "d = 28*28\n",
    "d1 = 300\n",
    "d2 = 200\n",
    "k = 10\n",
    "\n",
    "x_train = x_train * 1.0 / 256\n",
    "x_test = x_test * 1.0 / 256\n",
    "\n",
    "x_train = torch.flatten(torch.from_numpy(x_train), 1, 2)\n",
    "x_test = torch.flatten(torch.from_numpy(x_test), 1, 2)\n",
    "print(x_train.shape, x_test.shape)"
   ]
  },
  {
   "cell_type": "code",
   "execution_count": 35,
   "id": "7b4ef809-c1a2-4c40-aad9-1261cc3e8c90",
   "metadata": {},
   "outputs": [
    {
     "name": "stdout",
     "output_type": "stream",
     "text": [
      "torch.Size([60000, 10]) torch.Size([10000, 10])\n"
     ]
    }
   ],
   "source": [
    "y_train = torch.tensor([[1 if idx == y else 0 for idx in range(10)] for y in y_train])\n",
    "y_test = torch.tensor([[1 if idx == y else 0 for idx in range(10)] for y in y_test])\n",
    "print(y_train.shape, y_test.shape)"
   ]
  },
  {
   "cell_type": "code",
   "execution_count": 98,
   "id": "4603fd11-d0c2-4fef-8e6c-41bb8b687e51",
   "metadata": {},
   "outputs": [],
   "source": [
    "def compute_loss(x, y, W1, W2):\n",
    "    # print(x.shape, W1.shape, W2.shape, y.shape)\n",
    "    x = torch.reshape(x, (x.shape[0], x.shape[1], 1))\n",
    "    # print(\"x: \", x.shape)\n",
    "    # print(torch.max(x))\n",
    "    a = torch.matmul(W1, x.float())\n",
    "    # print(a[0, 200:300])\n",
    "    # print(a[1, 200:300])\n",
    "    # print(\"a: \", a.shape)\n",
    "    h = torch.sigmoid(a)\n",
    "    # print(torch.sigmoid(torch.tensor([52])))\n",
    "    # print(h[0, 200:300])\n",
    "    # print(h[1, 200:300])\n",
    "    # print(\"h: \", h.shape)\n",
    "    t = W2 @ h\n",
    "    t = torch.reshape(t, (t.shape[0], t.shape[1]))\n",
    "    # print(\"t: \", t.shape)\n",
    "    y_hat = torch.nn.functional.softmax(t, dim=1)\n",
    "    # print(\"y_hat: \", y_hat.shape)\n",
    "    prod = y * torch.log(y_hat)\n",
    "    # print(\"prod: \", prod.shape)\n",
    "    loss = torch.sum(prod, axis=1)\n",
    "    # print(\"loss: \", loss.shape)\n",
    "    return torch.sum(loss)/x.shape[0], y_hat, h\n",
    "\n",
    "\n",
    "def compute_grads(y, y_hat, h, W2, x):\n",
    "    f = torch.sum(y/y_hat, axis = 1)\n",
    "    a = y_hat * (1 - y_hat)\n",
    "    b = h * (1 - h)\n",
    "    g1 = torch.reshape(a, (a.shape[0], a.shape[1], 1)) @ torch.transpose(h, 1, 2)\n",
    "    f1 = f[:, None, None]\n",
    "    grad_W2 = torch.sum(f1 * g1, dim=0) / x.shape[0]\n",
    "    g2 = a @ W2\n",
    "    g2 = g2[:, :, None]\n",
    "    x1 = x[:, :, None]\n",
    "    x1 = torch.transpose(x1, dim0=1, dim1=2)\n",
    "    g3 = torch.matmul((g2 * b), x1.float())\n",
    "    grad_W1 = torch.sum(f1 * g3, dim=0) / x.shape[0]\n",
    "    return grad_W1, grad_W2\n",
    "\n",
    "W1 = torch.rand(d1, d, dtype=torch.float32)\n",
    "W2 = torch.rand(k, d1, dtype=torch.float32)\n",
    "l, y_hat, h = compute_loss(x_train[:5], y_train[:5], W1, W2)\n",
    "# compute_grads(y_train[:5], y_hat, h, W2, x_train[:5])"
   ]
  },
  {
   "cell_type": "code",
   "execution_count": 103,
   "id": "1ecfd196-cd19-4df4-a932-14d3688a91a9",
   "metadata": {},
   "outputs": [
    {
     "name": "stdout",
     "output_type": "stream",
     "text": [
      "W1:  torch.Size([300, 784]) ; W2:  torch.Size([10, 300])\n",
      "Loss after  1  epochs:  tensor(nan)\n"
     ]
    },
    {
     "ename": "KeyboardInterrupt",
     "evalue": "",
     "output_type": "error",
     "traceback": [
      "\u001b[1;31m---------------------------------------------------------------------------\u001b[0m",
      "\u001b[1;31mKeyboardInterrupt\u001b[0m                         Traceback (most recent call last)",
      "Cell \u001b[1;32mIn[103], line 16\u001b[0m\n\u001b[0;32m     14\u001b[0m \u001b[38;5;28;01mfor\u001b[39;00m x, y \u001b[38;5;129;01min\u001b[39;00m dl:\n\u001b[0;32m     15\u001b[0m     loss, y_hat, h \u001b[38;5;241m=\u001b[39m compute_loss(x, y, W1, W2)\n\u001b[1;32m---> 16\u001b[0m     grad_W1, grad_W2 \u001b[38;5;241m=\u001b[39m \u001b[43mcompute_grads\u001b[49m\u001b[43m(\u001b[49m\u001b[43my\u001b[49m\u001b[43m,\u001b[49m\u001b[43m \u001b[49m\u001b[43my_hat\u001b[49m\u001b[43m,\u001b[49m\u001b[43m \u001b[49m\u001b[43mh\u001b[49m\u001b[43m,\u001b[49m\u001b[43m \u001b[49m\u001b[43mW2\u001b[49m\u001b[43m,\u001b[49m\u001b[43m \u001b[49m\u001b[43mx\u001b[49m\u001b[43m)\u001b[49m\n\u001b[0;32m     17\u001b[0m     \u001b[38;5;66;03m# print(\"GW1: \", grad_W1.shape, \"; GW2: \", grad_W2.shape)\u001b[39;00m\n\u001b[0;32m     18\u001b[0m     W1 \u001b[38;5;241m+\u001b[39m\u001b[38;5;241m=\u001b[39m (lr \u001b[38;5;241m*\u001b[39m grad_W1)\n",
      "Cell \u001b[1;32mIn[98], line 27\u001b[0m, in \u001b[0;36mcompute_grads\u001b[1;34m(y, y_hat, h, W2, x)\u001b[0m\n\u001b[0;32m     23\u001b[0m     \u001b[38;5;66;03m# print(\"loss: \", loss.shape)\u001b[39;00m\n\u001b[0;32m     24\u001b[0m     \u001b[38;5;28;01mreturn\u001b[39;00m torch\u001b[38;5;241m.\u001b[39msum(loss)\u001b[38;5;241m/\u001b[39mx\u001b[38;5;241m.\u001b[39mshape[\u001b[38;5;241m0\u001b[39m], y_hat, h\n\u001b[1;32m---> 27\u001b[0m \u001b[38;5;28;01mdef\u001b[39;00m \u001b[38;5;21mcompute_grads\u001b[39m(y, y_hat, h, W2, x):\n\u001b[0;32m     28\u001b[0m     f \u001b[38;5;241m=\u001b[39m torch\u001b[38;5;241m.\u001b[39msum(y\u001b[38;5;241m/\u001b[39my_hat, axis \u001b[38;5;241m=\u001b[39m \u001b[38;5;241m1\u001b[39m)\n\u001b[0;32m     29\u001b[0m     a \u001b[38;5;241m=\u001b[39m y_hat \u001b[38;5;241m*\u001b[39m (\u001b[38;5;241m1\u001b[39m \u001b[38;5;241m-\u001b[39m y_hat)\n",
      "\u001b[1;31mKeyboardInterrupt\u001b[0m: "
     ]
    }
   ],
   "source": [
    "ds = torch.utils.data.TensorDataset(x_train, y_train)\n",
    "dl = torch.utils.data.DataLoader(ds, batch_size = 64, shuffle = True)\n",
    "\n",
    "torch.manual_seed(760)\n",
    "W1 = torch.zeros(d1, d, dtype=torch.float32)\n",
    "W2 = torch.zeros(k, d1, dtype=torch.float32)\n",
    "lr = 0.01\n",
    "\n",
    "print(\"W1: \", W1.shape, \"; W2: \", W2.shape)\n",
    "\n",
    "loss = None\n",
    "\n",
    "for epoch in range(200):\n",
    "    for x, y in dl:\n",
    "        loss, y_hat, h = compute_loss(x, y, W1, W2)\n",
    "        grad_W1, grad_W2 = compute_grads(y, y_hat, h, W2, x)\n",
    "        # print(\"GW1: \", grad_W1.shape, \"; GW2: \", grad_W2.shape)\n",
    "        W1 += (lr * grad_W1)\n",
    "        W2 += (lr * grad_W2)\n",
    "    if epoch%10 == 0:\n",
    "        print(\"Loss after \", epoch+1, \" epochs: \", loss)"
   ]
  },
  {
   "cell_type": "markdown",
   "id": "c30b8809-f768-47d6-88b4-bab019034002",
   "metadata": {},
   "source": [
    "## 4.3"
   ]
  },
  {
   "cell_type": "code",
   "execution_count": 105,
   "id": "8570fb1b-dcec-4592-9fa6-cd7ffe7066b1",
   "metadata": {},
   "outputs": [],
   "source": [
    "class MyNN(torch.nn.Module):\n",
    "    def __init__(self, d, d1, k):\n",
    "        super(MyNN, self).__init__()\n",
    "        self.layer1 = torch.nn.Sequential(\n",
    "            torch.nn.Linear(d, d1),\n",
    "            torch.nn.Sigmoid()\n",
    "        )\n",
    "        self.layer2 = torch.nn.Sequential(\n",
    "            torch.nn.Linear(d1, k),\n",
    "            torch.nn.Softmax(dim=1)\n",
    "        )\n",
    "\n",
    "    def forward(self, x):\n",
    "        o = self.layer1(x)\n",
    "        o = self.layer2(o)\n",
    "        return o"
   ]
  },
  {
   "cell_type": "code",
   "execution_count": 112,
   "id": "9f2c14da-9907-4c96-b138-1ea6805e7174",
   "metadata": {},
   "outputs": [],
   "source": [
    "class Loss(torch.nn.Module):\n",
    "    def __init__(self):\n",
    "        super(Loss, self).__init__()\n",
    "\n",
    "    def forward(self, y, y_hat):\n",
    "        loss = torch.sum(y * torch.log(y_hat))\n",
    "        return -loss"
   ]
  },
  {
   "cell_type": "code",
   "execution_count": 113,
   "id": "1d6298ef-b467-42b1-8076-f6571d14733d",
   "metadata": {},
   "outputs": [],
   "source": [
    "train_dataset = torch.utils.data.TensorDataset(x_train, y_train)\n",
    "test_dataset = torch.utils.data.TensorDataset(x_test, y_test)\n",
    "\n",
    "trl = torch.utils.data.DataLoader(train_dataset, batch_size = 64, shuffle = True)\n",
    "tsl = torch.utils.data.DataLoader(test_dataset, batch_size = 64)"
   ]
  },
  {
   "cell_type": "code",
   "execution_count": 127,
   "id": "d5761e78-ea26-4813-986a-4ff932169f93",
   "metadata": {},
   "outputs": [
    {
     "name": "stdout",
     "output_type": "stream",
     "text": [
      "Epoch:  10 ; Accuracy:  0.9765 ; Errors:  2.3499999999999965 %\n",
      "Epoch:  20 ; Accuracy:  0.9809 ; Errors:  1.9100000000000006 %\n",
      "Epoch:  30 ; Accuracy:  0.9823 ; Errors:  1.770000000000005 %\n",
      "Epoch:  40 ; Accuracy:  0.9816 ; Errors:  1.8399999999999972 %\n",
      "Epoch:  50 ; Accuracy:  0.9819 ; Errors:  1.8100000000000005 %\n",
      "Epoch:  60 ; Accuracy:  0.9818 ; Errors:  1.8199999999999994 %\n"
     ]
    }
   ],
   "source": [
    "model = MyNN(d, d1, k)\n",
    "criterion = Loss()\n",
    "optimizer = torch.optim.SGD(model.parameters(), lr = 0.01)\n",
    "\n",
    "epochs = []\n",
    "accuracies = []\n",
    "\n",
    "for epoch in range(60):\n",
    "    model.train()\n",
    "\n",
    "    for x, y in trl:\n",
    "        optimizer.zero_grad()\n",
    "        y_hat = model(x.float())\n",
    "        loss = criterion(y, y_hat)\n",
    "        loss.backward()\n",
    "        optimizer.step()\n",
    "\n",
    "    if (epoch+1) % 10 == 0:\n",
    "        model.eval()\n",
    "        correct = 0\n",
    "        total = 0\n",
    "        with torch.no_grad():\n",
    "            for x_t, y_t in tsl:\n",
    "                y_t_hat = model(x_t.float())\n",
    "                loss = criterion(y_t, y_t_hat)\n",
    "                _, predicted = y_t_hat.max(1)\n",
    "                labels = torch.argmax(y_t, dim=1)\n",
    "                total += y_t.size(0)\n",
    "                correct += (predicted == labels).sum().item()\n",
    "        accuracy = correct/total\n",
    "        epochs.append(epoch)\n",
    "        accuracies.append(accuracy)\n",
    "\n",
    "        print(\"Epoch: \", epoch+1, \"; Accuracy: \", accuracy, \"; Errors: \", (1-accuracy)*100, \"%\")"
   ]
  },
  {
   "cell_type": "code",
   "execution_count": 128,
   "id": "18b0e7f2-6ae4-4ef5-9bcd-1662260b19fa",
   "metadata": {},
   "outputs": [
    {
     "data": {
      "image/png": "[encoded data removed]",
      "text/plain": [
       "<Figure size 640x480 with 1 Axes>"
      ]
     },
     "metadata": {},
     "output_type": "display_data"
    }
   ],
   "source": [
    "import matplotlib.pyplot as plt\n",
    "\n",
    "plt.plot(epochs, accuracies)\n",
    "plt.show()"
   ]
  },
  {
   "cell_type": "markdown",
   "id": "fef44866-ded6-447e-bb49-8c05457b6a81",
   "metadata": {},
   "source": [
    "## 4.4"
   ]
  },
  {
   "cell_type": "markdown",
   "id": "10b9aef5-3903-4fb7-a1a5-86f3c57cb946",
   "metadata": {},
   "source": [
    "### Initialize weights to zero"
   ]
  },
  {
   "cell_type": "code",
   "execution_count": 150,
   "id": "1ab2009b-22b8-446e-b40d-89240e346c5e",
   "metadata": {},
   "outputs": [],
   "source": [
    "import torch.nn.init as init\n",
    "\n",
    "class ZeroWNN(torch.nn.Module):\n",
    "    def __init__(self, d, d1, k):\n",
    "        super(ZeroWNN, self).__init__()\n",
    "        linear1 = torch.nn.Linear(d, d1)\n",
    "        linear2 = torch.nn.Linear(d1, k)\n",
    "        linear1.weight.data.fill_(0)\n",
    "        linear2.weight.data.fill_(0)\n",
    "\n",
    "        self.layer1 = torch.nn.Sequential(\n",
    "            linear1,\n",
    "            torch.nn.Sigmoid()\n",
    "        )\n",
    "        self.layer2 = torch.nn.Sequential(\n",
    "            linear2,\n",
    "            torch.nn.Softmax(dim=1)\n",
    "        )\n",
    "\n",
    "    def forward(self, x):\n",
    "        o = self.layer1(x)\n",
    "        o = self.layer2(o)\n",
    "        return o"
   ]
  },
  {
   "cell_type": "code",
   "execution_count": 152,
   "id": "14f1a641-db3e-41e1-ba4d-62cb8a99cf4f",
   "metadata": {},
   "outputs": [
    {
     "name": "stdout",
     "output_type": "stream",
     "text": [
      "Epoch:  10 ; Accuracy:  0.9168 ; Errors:  8.320000000000006 %\n",
      "Epoch:  20 ; Accuracy:  0.9315 ; Errors:  6.8500000000000005 %\n",
      "Epoch:  30 ; Accuracy:  0.9464 ; Errors:  5.359999999999998 %\n",
      "Epoch:  40 ; Accuracy:  0.9564 ; Errors:  4.359999999999998 %\n",
      "Epoch:  50 ; Accuracy:  0.9607 ; Errors:  3.93 %\n",
      "Epoch:  60 ; Accuracy:  0.9648 ; Errors:  3.520000000000001 %\n"
     ]
    }
   ],
   "source": [
    "model = ZeroWNN(d, d1, k)\n",
    "criterion = Loss()\n",
    "optimizer = torch.optim.SGD(model.parameters(), lr = 0.001)\n",
    "\n",
    "epochs = []\n",
    "accuracies = []\n",
    "\n",
    "for epoch in range(60):\n",
    "    model.train()\n",
    "\n",
    "    for x, y in trl:\n",
    "        optimizer.zero_grad()\n",
    "        y_hat = model(x.float())\n",
    "        loss = criterion(y, y_hat)\n",
    "        loss.backward()\n",
    "        optimizer.step()\n",
    "\n",
    "    if (epoch+1) % 10 == 0:\n",
    "        model.eval()\n",
    "        correct = 0\n",
    "        total = 0\n",
    "        with torch.no_grad():\n",
    "            for x_t, y_t in tsl:\n",
    "                y_t_hat = model(x_t.float())\n",
    "                loss = criterion(y_t, y_t_hat)\n",
    "                _, predicted = y_t_hat.max(1)\n",
    "                labels = torch.argmax(y_t, dim=1)\n",
    "                total += y_t.size(0)\n",
    "                correct += (predicted == labels).sum().item()\n",
    "        accuracy = correct/total\n",
    "        epochs.append(epoch)\n",
    "        accuracies.append(accuracy)\n",
    "\n",
    "        print(\"Epoch: \", epoch+1, \"; Accuracy: \", accuracy, \"; Errors: \", (1-accuracy)*100, \"%\")"
   ]
  },
  {
   "cell_type": "code",
   "execution_count": 153,
   "id": "8b66fca0-58a8-44a3-afd5-2a71c9eaa935",
   "metadata": {},
   "outputs": [
    {
     "data": {
      "image/png": "[encoded data removed]",
      "text/plain": [
       "<Figure size 640x480 with 1 Axes>"
      ]
     },
     "metadata": {},
     "output_type": "display_data"
    }
   ],
   "source": [
    "plt.plot(epochs, accuracies)\n",
    "plt.show()"
   ]
  },
  {
   "cell_type": "markdown",
   "id": "5b98a7ef-ca1a-473e-8b62-f3b9254c5a1b",
   "metadata": {},
   "source": [
    "### Initialize weights randomly"
   ]
  },
  {
   "cell_type": "code",
   "execution_count": 145,
   "id": "1f9738e0-1f7a-4eda-83da-dcfe551bb282",
   "metadata": {},
   "outputs": [],
   "source": [
    "import torch.nn.init as init\n",
    "\n",
    "class RandWNN(torch.nn.Module):\n",
    "    def __init__(self, d, d1, k):\n",
    "        super(RandWNN, self).__init__()\n",
    "        linear1 = torch.nn.Linear(d, d1)\n",
    "        linear2 = torch.nn.Linear(d1, k)\n",
    "        linear1.weight.data.uniform_(-1,1 )\n",
    "        linear2.weight.data.uniform_(-1,1 )\n",
    "\n",
    "        self.layer1 = torch.nn.Sequential(\n",
    "            linear1,\n",
    "            torch.nn.Sigmoid()\n",
    "        )\n",
    "        self.layer2 = torch.nn.Sequential(\n",
    "            linear2,\n",
    "            torch.nn.Softmax(dim=1)\n",
    "        )\n",
    "\n",
    "    def forward(self, x):\n",
    "        o = self.layer1(x)\n",
    "        o = self.layer2(o)\n",
    "        return o"
   ]
  },
  {
   "cell_type": "code",
   "execution_count": 148,
   "id": "371012c6-90f9-49a4-b992-ff5d9d3d4ac9",
   "metadata": {},
   "outputs": [
    {
     "name": "stdout",
     "output_type": "stream",
     "text": [
      "Epoch:  10 ; Accuracy:  0.9627 ; Errors:  3.73 %\n",
      "Epoch:  20 ; Accuracy:  0.9685 ; Errors:  3.1499999999999972 %\n",
      "Epoch:  30 ; Accuracy:  0.9699 ; Errors:  3.0100000000000016 %\n",
      "Epoch:  40 ; Accuracy:  0.9708 ; Errors:  2.9200000000000004 %\n",
      "Epoch:  50 ; Accuracy:  0.9717 ; Errors:  2.829999999999999 %\n",
      "Epoch:  60 ; Accuracy:  0.9714 ; Errors:  2.859999999999996 %\n"
     ]
    }
   ],
   "source": [
    "model = ZeroWNN(d, d1, k)\n",
    "criterion = Loss()\n",
    "optimizer = torch.optim.SGD(model.parameters(), lr = 0.01)\n",
    "\n",
    "epochs = []\n",
    "accuracies = []\n",
    "\n",
    "for epoch in range(60):\n",
    "    model.train()\n",
    "\n",
    "    for x, y in trl:\n",
    "        optimizer.zero_grad()\n",
    "        y_hat = model(x.float())\n",
    "        loss = criterion(y, y_hat)\n",
    "        loss.backward()\n",
    "        optimizer.step()\n",
    "\n",
    "    if (epoch+1) % 10 == 0:\n",
    "        model.eval()\n",
    "        correct = 0\n",
    "        total = 0\n",
    "        with torch.no_grad():\n",
    "            for x_t, y_t in tsl:\n",
    "                y_t_hat = model(x_t.float())\n",
    "                loss = criterion(y_t, y_t_hat)\n",
    "                _, predicted = y_t_hat.max(1)\n",
    "                labels = torch.argmax(y_t, dim=1)\n",
    "                total += y_t.size(0)\n",
    "                correct += (predicted == labels).sum().item()\n",
    "        accuracy = correct/total\n",
    "        epochs.append(epoch)\n",
    "        accuracies.append(accuracy)\n",
    "\n",
    "        print(\"Epoch: \", epoch+1, \"; Accuracy: \", accuracy, \"; Errors: \", (1-accuracy)*100, \"%\")"
   ]
  },
  {
   "cell_type": "code",
   "execution_count": 149,
   "id": "f263a82f-b0c1-4c53-a224-370016efe842",
   "metadata": {},
   "outputs": [
    {
     "data": {
      "image/png": "[encoded data removed]",
      "text/plain": [
       "<Figure size 640x480 with 1 Axes>"
      ]
     },
     "metadata": {},
     "output_type": "display_data"
    }
   ],
   "source": [
    "plt.plot(epochs, accuracies)\n",
    "plt.show()"
   ]
  },
  {
   "cell_type": "code",
   "execution_count": null,
   "id": "a8c30ebf-1a6f-43db-a6fe-f2ef888eeacf",
   "metadata": {},
   "outputs": [],
   "source": []
  }
 ],
 "metadata": {
  "kernelspec": {
   "display_name": "Python 3 (ipykernel)",
   "language": "python",
   "name": "python3"
  },
  "language_info": {
   "codemirror_mode": {
    "name": "ipython",
    "version": 3
   },
   "file_extension": ".py",
   "mimetype": "text/x-python",
   "name": "python",
   "nbconvert_exporter": "python",
   "pygments_lexer": "ipython3",
   "version": "3.11.5"
  }
 },
 "nbformat": 4,
 "nbformat_minor": 5
}
